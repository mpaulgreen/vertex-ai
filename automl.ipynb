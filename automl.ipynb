{
 "cells": [
  {
   "cell_type": "markdown",
   "id": "17bed2c0-86f5-481f-add2-cc6714528b7a",
   "metadata": {},
   "source": [
    "# POC to create data set, train, evaluate and serve model from local notebook"
   ]
  },
  {
   "cell_type": "markdown",
   "id": "49543297-54b7-4ed6-8df3-355fbf6e2d27",
   "metadata": {},
   "source": [
    "## Install the packages"
   ]
  },
  {
   "cell_type": "code",
   "execution_count": 1,
   "id": "c755d372-f2f8-44e5-be48-d3870f2dcf21",
   "metadata": {},
   "outputs": [],
   "source": [
    "# Install the packages\n",
    "! pip3 install --quiet --upgrade google-cloud-aiplatform \\\n",
    "                                 google-cloud-storage"
   ]
  },
  {
   "cell_type": "code",
   "execution_count": 2,
   "id": "d997208d-91dd-46b0-9146-922d56b1c764",
   "metadata": {},
   "outputs": [
    {
     "name": "stdout",
     "output_type": "stream",
     "text": [
      "Updated property [core/project].\n"
     ]
    }
   ],
   "source": [
    "# set up the project id\n",
    "PROJECT_ID = \"fsi-env2\"\n",
    "! gcloud config set project {PROJECT_ID}"
   ]
  },
  {
   "cell_type": "code",
   "execution_count": 3,
   "id": "a802c2e6-631c-4c04-8f4d-57d69d834eab",
   "metadata": {},
   "outputs": [],
   "source": [
    "REGION = \"us-central1\" "
   ]
  },
  {
   "cell_type": "code",
   "execution_count": 4,
   "id": "4f79f33b-0b1d-42fc-be51-5b60dc3576d4",
   "metadata": {},
   "outputs": [],
   "source": [
    "BUCKET_URI = f\"gs://mp-automl-data-{PROJECT_ID}-unique\""
   ]
  },
  {
   "cell_type": "code",
   "execution_count": 5,
   "id": "e375c902-78a7-4f49-aec6-c3c308a2c22b",
   "metadata": {},
   "outputs": [
    {
     "name": "stdout",
     "output_type": "stream",
     "text": [
      "Creating gs://mp-automl-data-fsi-env2-unique/...\n"
     ]
    }
   ],
   "source": [
    "! gsutil mb -l $REGION $BUCKET_URI"
   ]
  },
  {
   "cell_type": "markdown",
   "id": "b8311664-1413-4b42-a204-312ba361417f",
   "metadata": {},
   "source": [
    "## Save the data in cloud storage"
   ]
  },
  {
   "cell_type": "code",
   "execution_count": 6,
   "id": "5a985139-2b34-475b-93fc-35b3b4bc6585",
   "metadata": {},
   "outputs": [
    {
     "name": "stdout",
     "output_type": "stream",
     "text": [
      "Copying gs://cloud-samples-data/ai-platform-unified/datasets/tabular/petfinder-tabular-classification.csv [Content-Type=text/csv]...\n",
      "/ [1 files][872.8 KiB/872.8 KiB]                                                \n",
      "Operation completed over 1 objects/872.8 KiB.                                    \n"
     ]
    }
   ],
   "source": [
    "IMPORT_FILE = \"petfinder-tabular-classification.csv\"\n",
    "! gsutil cp gs://cloud-samples-data/ai-platform-unified/datasets/tabular/{IMPORT_FILE} {BUCKET_URI}/data/\n",
    "\n",
    "gcs_source = f\"{BUCKET_URI}/data/{IMPORT_FILE}\""
   ]
  },
  {
   "cell_type": "markdown",
   "id": "3b2d58bc-29ca-4502-8dc4-72272373981c",
   "metadata": {},
   "source": [
    "## Import Vertex AI SDK for python"
   ]
  },
  {
   "cell_type": "code",
   "execution_count": 7,
   "id": "c52ac460-a273-45c4-bfa6-5f18391b0fd8",
   "metadata": {},
   "outputs": [],
   "source": [
    "import os\n",
    "\n",
    "from google.cloud import aiplatform\n",
    "\n",
    "aiplatform.init(project=PROJECT_ID, location=REGION)"
   ]
  },
  {
   "cell_type": "markdown",
   "id": "6a9489c8-195b-46f8-9a48-caf3a6aa5615",
   "metadata": {},
   "source": [
    "## Create a Managed Tabular Dataset from a CSV"
   ]
  },
  {
   "cell_type": "code",
   "execution_count": 8,
   "id": "e0578024-67c4-40e7-8982-66b55891cab6",
   "metadata": {},
   "outputs": [
    {
     "name": "stdout",
     "output_type": "stream",
     "text": [
      "Creating TabularDataset\n",
      "Create TabularDataset backing LRO: projects/536618027487/locations/us-central1/datasets/4231974075821457408/operations/2927252552774844416\n",
      "TabularDataset created. Resource name: projects/536618027487/locations/us-central1/datasets/4231974075821457408\n",
      "To use this TabularDataset in another session:\n",
      "ds = aiplatform.TabularDataset('projects/536618027487/locations/us-central1/datasets/4231974075821457408')\n"
     ]
    },
    {
     "data": {
      "text/plain": [
       "'projects/536618027487/locations/us-central1/datasets/4231974075821457408'"
      ]
     },
     "execution_count": 8,
     "metadata": {},
     "output_type": "execute_result"
    }
   ],
   "source": [
    "ds = dataset = aiplatform.TabularDataset.create(\n",
    "    display_name=\"petfinder-tabular-dataset\",\n",
    "    gcs_source=gcs_source,\n",
    ")\n",
    "\n",
    "ds.resource_name"
   ]
  },
  {
   "cell_type": "markdown",
   "id": "35338cda-04a7-4d37-94db-0d1a1c7c3a10",
   "metadata": {},
   "source": [
    "## Launch a training job to create a Model"
   ]
  },
  {
   "cell_type": "code",
   "execution_count": 9,
   "id": "db25d4a7-3277-4323-b28d-3f9658e7d9da",
   "metadata": {},
   "outputs": [
    {
     "name": "stdout",
     "output_type": "stream",
     "text": [
      "View Training:\n",
      "https://console.cloud.google.com/ai/platform/locations/us-central1/training/8521900179727581184?project=536618027487\n",
      "AutoMLTabularTrainingJob projects/536618027487/locations/us-central1/trainingPipelines/8521900179727581184 current state:\n",
      "2\n",
      "AutoMLTabularTrainingJob projects/536618027487/locations/us-central1/trainingPipelines/8521900179727581184 current state:\n",
      "2\n",
      "AutoMLTabularTrainingJob projects/536618027487/locations/us-central1/trainingPipelines/8521900179727581184 current state:\n",
      "2\n",
      "AutoMLTabularTrainingJob projects/536618027487/locations/us-central1/trainingPipelines/8521900179727581184 current state:\n",
      "2\n",
      "AutoMLTabularTrainingJob projects/536618027487/locations/us-central1/trainingPipelines/8521900179727581184 current state:\n",
      "2\n",
      "AutoMLTabularTrainingJob projects/536618027487/locations/us-central1/trainingPipelines/8521900179727581184 current state:\n",
      "3\n",
      "AutoMLTabularTrainingJob projects/536618027487/locations/us-central1/trainingPipelines/8521900179727581184 current state:\n",
      "3\n",
      "AutoMLTabularTrainingJob projects/536618027487/locations/us-central1/trainingPipelines/8521900179727581184 current state:\n",
      "3\n",
      "AutoMLTabularTrainingJob projects/536618027487/locations/us-central1/trainingPipelines/8521900179727581184 current state:\n",
      "3\n",
      "AutoMLTabularTrainingJob projects/536618027487/locations/us-central1/trainingPipelines/8521900179727581184 current state:\n",
      "3\n",
      "AutoMLTabularTrainingJob projects/536618027487/locations/us-central1/trainingPipelines/8521900179727581184 current state:\n",
      "3\n",
      "AutoMLTabularTrainingJob projects/536618027487/locations/us-central1/trainingPipelines/8521900179727581184 current state:\n",
      "3\n",
      "AutoMLTabularTrainingJob projects/536618027487/locations/us-central1/trainingPipelines/8521900179727581184 current state:\n",
      "3\n",
      "AutoMLTabularTrainingJob projects/536618027487/locations/us-central1/trainingPipelines/8521900179727581184 current state:\n",
      "3\n",
      "AutoMLTabularTrainingJob projects/536618027487/locations/us-central1/trainingPipelines/8521900179727581184 current state:\n",
      "3\n",
      "AutoMLTabularTrainingJob projects/536618027487/locations/us-central1/trainingPipelines/8521900179727581184 current state:\n",
      "3\n",
      "AutoMLTabularTrainingJob projects/536618027487/locations/us-central1/trainingPipelines/8521900179727581184 current state:\n",
      "3\n",
      "AutoMLTabularTrainingJob projects/536618027487/locations/us-central1/trainingPipelines/8521900179727581184 current state:\n",
      "3\n",
      "AutoMLTabularTrainingJob projects/536618027487/locations/us-central1/trainingPipelines/8521900179727581184 current state:\n",
      "3\n",
      "AutoMLTabularTrainingJob projects/536618027487/locations/us-central1/trainingPipelines/8521900179727581184 current state:\n",
      "3\n",
      "AutoMLTabularTrainingJob projects/536618027487/locations/us-central1/trainingPipelines/8521900179727581184 current state:\n",
      "3\n",
      "AutoMLTabularTrainingJob projects/536618027487/locations/us-central1/trainingPipelines/8521900179727581184 current state:\n",
      "3\n",
      "AutoMLTabularTrainingJob projects/536618027487/locations/us-central1/trainingPipelines/8521900179727581184 current state:\n",
      "3\n",
      "AutoMLTabularTrainingJob projects/536618027487/locations/us-central1/trainingPipelines/8521900179727581184 current state:\n",
      "3\n",
      "AutoMLTabularTrainingJob projects/536618027487/locations/us-central1/trainingPipelines/8521900179727581184 current state:\n",
      "3\n",
      "AutoMLTabularTrainingJob projects/536618027487/locations/us-central1/trainingPipelines/8521900179727581184 current state:\n",
      "3\n",
      "AutoMLTabularTrainingJob projects/536618027487/locations/us-central1/trainingPipelines/8521900179727581184 current state:\n",
      "3\n",
      "AutoMLTabularTrainingJob projects/536618027487/locations/us-central1/trainingPipelines/8521900179727581184 current state:\n",
      "3\n",
      "AutoMLTabularTrainingJob run completed. Resource name: projects/536618027487/locations/us-central1/trainingPipelines/8521900179727581184\n",
      "Model available at projects/536618027487/locations/us-central1/models/4825881878634430464\n"
     ]
    }
   ],
   "source": [
    "job = aiplatform.AutoMLTabularTrainingJob(\n",
    "    display_name=\"train-petfinder-automl-1\",\n",
    "    optimization_prediction_type=\"classification\",\n",
    "    column_transformations=[\n",
    "        {\"categorical\": {\"column_name\": \"Type\"}},\n",
    "        {\"numeric\": {\"column_name\": \"Age\"}},\n",
    "        {\"categorical\": {\"column_name\": \"Breed1\"}},\n",
    "        {\"categorical\": {\"column_name\": \"Color1\"}},\n",
    "        {\"categorical\": {\"column_name\": \"Color2\"}},\n",
    "        {\"categorical\": {\"column_name\": \"MaturitySize\"}},\n",
    "        {\"categorical\": {\"column_name\": \"FurLength\"}},\n",
    "        {\"categorical\": {\"column_name\": \"Vaccinated\"}},\n",
    "        {\"categorical\": {\"column_name\": \"Sterilized\"}},\n",
    "        {\"categorical\": {\"column_name\": \"Health\"}},\n",
    "        {\"numeric\": {\"column_name\": \"Fee\"}},\n",
    "        {\"numeric\": {\"column_name\": \"PhotoAmt\"}},\n",
    "    ],\n",
    ")\n",
    "\n",
    "# This will take around an hour to run\n",
    "model = job.run(\n",
    "    dataset=ds,\n",
    "    target_column=\"Adopted\",\n",
    "    training_fraction_split=0.8,\n",
    "    validation_fraction_split=0.1,\n",
    "    test_fraction_split=0.1,\n",
    "    model_display_name=\"adopted-prediction-model\",\n",
    "    disable_early_stopping=False,\n",
    ")"
   ]
  },
  {
   "cell_type": "markdown",
   "id": "e1d1b643-e1f6-4aae-8af5-8b77bf1254f6",
   "metadata": {},
   "source": [
    "## Deploy your model"
   ]
  },
  {
   "cell_type": "code",
   "execution_count": 10,
   "id": "60e8e80b-206e-4d84-bc63-f81a72f3b9cf",
   "metadata": {},
   "outputs": [
    {
     "name": "stdout",
     "output_type": "stream",
     "text": [
      "Creating Endpoint\n",
      "Create Endpoint backing LRO: projects/536618027487/locations/us-central1/endpoints/6967627175449067520/operations/7950103143432323072\n",
      "Endpoint created. Resource name: projects/536618027487/locations/us-central1/endpoints/6967627175449067520\n",
      "To use this Endpoint in another session:\n",
      "endpoint = aiplatform.Endpoint('projects/536618027487/locations/us-central1/endpoints/6967627175449067520')\n",
      "Deploying model to Endpoint : projects/536618027487/locations/us-central1/endpoints/6967627175449067520\n",
      "Deploy Endpoint model backing LRO: projects/536618027487/locations/us-central1/endpoints/6967627175449067520/operations/8527689795642589184\n",
      "Endpoint model deployed. Resource name: projects/536618027487/locations/us-central1/endpoints/6967627175449067520\n"
     ]
    }
   ],
   "source": [
    "endpoint = model.deploy(\n",
    "    machine_type=\"n1-standard-4\",\n",
    ")"
   ]
  },
  {
   "cell_type": "markdown",
   "id": "5cdcf5fe-1cfd-40cf-8aa9-d259b74bf36b",
   "metadata": {},
   "source": [
    "## Predict on your endpoint"
   ]
  },
  {
   "cell_type": "code",
   "execution_count": 11,
   "id": "6a0bcabb-8e4d-4664-9104-0f3de829ac35",
   "metadata": {},
   "outputs": [
    {
     "name": "stdout",
     "output_type": "stream",
     "text": [
      "Prediction(predictions=[{'classes': ['Yes', 'No'], 'scores': [0.7470818758010864, 0.252918004989624]}], deployed_model_id='2154675553557282816', model_version_id='1', model_resource_name='projects/536618027487/locations/us-central1/models/4825881878634430464', explanations=None)\n"
     ]
    }
   ],
   "source": [
    "prediction = endpoint.predict(\n",
    "    [\n",
    "        {\n",
    "            \"Type\": \"Cat\",\n",
    "            \"Age\": \"3\",\n",
    "            \"Breed1\": \"Tabby\",\n",
    "            \"Gender\": \"Male\",\n",
    "            \"Color1\": \"Black\",\n",
    "            \"Color2\": \"White\",\n",
    "            \"MaturitySize\": \"Small\",\n",
    "            \"FurLength\": \"Short\",\n",
    "            \"Vaccinated\": \"No\",\n",
    "            \"Sterilized\": \"No\",\n",
    "            \"Health\": \"Healthy\",\n",
    "            \"Fee\": \"100\",\n",
    "            \"PhotoAmt\": \"2\",\n",
    "        }\n",
    "    ]\n",
    ")\n",
    "print(prediction)"
   ]
  },
  {
   "cell_type": "markdown",
   "id": "48c7f88c-3022-49b0-b0d1-e05585de4ae6",
   "metadata": {},
   "source": [
    "## Undeploy the model"
   ]
  },
  {
   "cell_type": "code",
   "execution_count": 12,
   "id": "8df92a4c-8d17-41ed-bb7d-59fec92d915a",
   "metadata": {},
   "outputs": [
    {
     "name": "stdout",
     "output_type": "stream",
     "text": [
      "Undeploying Endpoint model: projects/536618027487/locations/us-central1/endpoints/6967627175449067520\n",
      "Undeploy Endpoint model backing LRO: projects/536618027487/locations/us-central1/endpoints/6967627175449067520/operations/8195549323124015104\n",
      "Endpoint model undeployed. Resource name: projects/536618027487/locations/us-central1/endpoints/6967627175449067520\n"
     ]
    }
   ],
   "source": [
    "endpoint.undeploy(deployed_model_id=prediction.deployed_model_id)"
   ]
  },
  {
   "cell_type": "markdown",
   "id": "b2864a90-3333-41f0-befd-24d544b0f3f5",
   "metadata": {},
   "source": [
    "## Cleaning Up"
   ]
  },
  {
   "cell_type": "code",
   "execution_count": 13,
   "id": "27ecd4ea-89f3-4735-ad74-5178e0dec228",
   "metadata": {},
   "outputs": [
    {
     "name": "stdout",
     "output_type": "stream",
     "text": [
      "Deleting AutoMLTabularTrainingJob : projects/536618027487/locations/us-central1/trainingPipelines/8521900179727581184\n",
      "Delete AutoMLTabularTrainingJob  backing LRO: projects/536618027487/locations/us-central1/operations/8542326494431543296\n",
      "AutoMLTabularTrainingJob deleted. . Resource name: projects/536618027487/locations/us-central1/trainingPipelines/8521900179727581184\n",
      "Deleting Model : projects/536618027487/locations/us-central1/models/4825881878634430464\n",
      "Delete Model  backing LRO: projects/536618027487/locations/us-central1/operations/6943548626715017216\n",
      "Model deleted. . Resource name: projects/536618027487/locations/us-central1/models/4825881878634430464\n",
      "Deleting Endpoint : projects/536618027487/locations/us-central1/endpoints/6967627175449067520\n",
      "Delete Endpoint  backing LRO: projects/536618027487/locations/us-central1/operations/3378949521651269632\n",
      "Endpoint deleted. . Resource name: projects/536618027487/locations/us-central1/endpoints/6967627175449067520\n",
      "If you experience problems with multiprocessing on MacOS, they might be related to https://bugs.python.org/issue33725. You can disable multiprocessing by editing your .boto config or by adding the following flag to your command: `-o \"GSUtil:parallel_process_count=1\"`. Note that multithreading is still available even if you disable multiprocessing.\n",
      "\n",
      "Removing gs://mp-automl-data-fsi-env2-unique/data/petfinder-tabular-classification.csv#1691003143610954...\n",
      "/ [1/1 objects] 100% Done                                                       \n",
      "Operation completed over 1 objects.                                              \n",
      "Removing gs://mp-automl-data-fsi-env2-unique/...\n"
     ]
    }
   ],
   "source": [
    "# Warning: Setting this to true will delete everything in your bucket\n",
    "delete_bucket = True\n",
    "\n",
    "# Delete the training job\n",
    "job.delete()\n",
    "\n",
    "# Delete the model\n",
    "model.delete()\n",
    "\n",
    "# Delete the endpoint\n",
    "endpoint.delete()\n",
    "\n",
    "\n",
    "\n",
    "if delete_bucket or os.getenv(\"IS_TESTING\"):\n",
    "    ! gsutil -m rm -r $BUCKET_URI"
   ]
  },
  {
   "cell_type": "code",
   "execution_count": null,
   "id": "2cd4dbe5-ee24-4e1c-ba44-fd952e66f212",
   "metadata": {},
   "outputs": [],
   "source": []
  }
 ],
 "metadata": {
  "environment": {
   "kernel": "python3",
   "name": "tf2-gpu.2-11.m109",
   "type": "gcloud",
   "uri": "gcr.io/deeplearning-platform-release/tf2-gpu.2-11:m109"
  },
  "kernelspec": {
   "display_name": "Python 3 (ipykernel)",
   "language": "python",
   "name": "python3"
  },
  "language_info": {
   "codemirror_mode": {
    "name": "ipython",
    "version": 3
   },
   "file_extension": ".py",
   "mimetype": "text/x-python",
   "name": "python",
   "nbconvert_exporter": "python",
   "pygments_lexer": "ipython3",
   "version": "3.11.4"
  }
 },
 "nbformat": 4,
 "nbformat_minor": 5
}
