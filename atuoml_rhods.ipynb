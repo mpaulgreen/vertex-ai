{
 "cells": [
  {
   "cell_type": "code",
   "execution_count": 1,
   "id": "1877ab79-72b0-43bb-b3de-af1208d8800c",
   "metadata": {},
   "outputs": [
    {
     "name": "stdout",
     "output_type": "stream",
     "text": [
      "\n",
      "\u001b[1m[\u001b[0m\u001b[34;49mnotice\u001b[0m\u001b[1;39;49m]\u001b[0m\u001b[39;49m A new release of pip is available: \u001b[0m\u001b[31;49m23.1.2\u001b[0m\u001b[39;49m -> \u001b[0m\u001b[32;49m23.2.1\u001b[0m\n",
      "\u001b[1m[\u001b[0m\u001b[34;49mnotice\u001b[0m\u001b[1;39;49m]\u001b[0m\u001b[39;49m To update, run: \u001b[0m\u001b[32;49mpip install --upgrade pip\u001b[0m\n"
     ]
    }
   ],
   "source": [
    "# Install the packages\n",
    "! pip3 install --quiet --upgrade google-cloud-aiplatform \\\n",
    "                                 google-cloud-storage"
   ]
  },
  {
   "cell_type": "code",
   "execution_count": 2,
   "id": "58e8118f-d7c2-4657-91cc-8f5fb940f697",
   "metadata": {},
   "outputs": [
    {
     "name": "stdout",
     "output_type": "stream",
     "text": [
      "Updated property [core/project].\n"
     ]
    }
   ],
   "source": [
    "# set up the project id\n",
    "PROJECT_ID = \"fsi-env2\"\n",
    "! /opt/app-root/src/google-cloud-sdk/bin/gcloud config set project {PROJECT_ID}"
   ]
  },
  {
   "cell_type": "code",
   "execution_count": 3,
   "id": "7abf044e-4a59-43ce-94ed-aaad9000610a",
   "metadata": {},
   "outputs": [],
   "source": [
    "REGION = \"us-central1\" "
   ]
  },
  {
   "cell_type": "code",
   "execution_count": 4,
   "id": "bd5aa679-cae7-4dda-b404-d0f6b4b005aa",
   "metadata": {},
   "outputs": [],
   "source": [
    "BUCKET_URI = f\"gs://mp-automl-data-{PROJECT_ID}-unique\""
   ]
  },
  {
   "cell_type": "code",
   "execution_count": 5,
   "id": "1e54b17d-8440-4372-b9e9-318162b126dc",
   "metadata": {},
   "outputs": [
    {
     "name": "stdout",
     "output_type": "stream",
     "text": [
      "Creating gs://mp-automl-data-fsi-env2-unique/...\n",
      "ServiceException: 409 A Cloud Storage bucket named 'mp-automl-data-fsi-env2-unique' already exists. Try another name. Bucket names must be globally unique across all Google Cloud projects, including those outside of your organization.\n"
     ]
    }
   ],
   "source": [
    "! /opt/app-root/src/google-cloud-sdk/bin/gsutil mb -l $REGION $BUCKET_URI"
   ]
  },
  {
   "cell_type": "markdown",
   "id": "3d1c8978-abc1-477d-b359-4b1abbaadc26",
   "metadata": {},
   "source": [
    "## Save the data in cloud storage"
   ]
  },
  {
   "cell_type": "code",
   "execution_count": 6,
   "id": "2f59bf30-0c84-45ec-b708-2e177f448391",
   "metadata": {},
   "outputs": [
    {
     "name": "stdout",
     "output_type": "stream",
     "text": [
      "Copying gs://cloud-samples-data/ai-platform-unified/datasets/tabular/petfinder-tabular-classification.csv [Content-Type=text/csv]...\n",
      "/ [1 files][872.8 KiB/872.8 KiB]                                                \n",
      "Operation completed over 1 objects/872.8 KiB.                                    \n"
     ]
    }
   ],
   "source": [
    "IMPORT_FILE = \"petfinder-tabular-classification.csv\"\n",
    "! /opt/app-root/src/google-cloud-sdk/bin/gsutil cp gs://cloud-samples-data/ai-platform-unified/datasets/tabular/{IMPORT_FILE} {BUCKET_URI}/data/\n",
    "\n",
    "gcs_source = f\"{BUCKET_URI}/data/{IMPORT_FILE}\""
   ]
  },
  {
   "cell_type": "markdown",
   "id": "cdbc71eb-7835-4306-80ef-aa5de7d0785a",
   "metadata": {},
   "source": [
    "## Import Vertex AI SDK for python"
   ]
  },
  {
   "cell_type": "code",
   "execution_count": 7,
   "id": "eef96d99-cc18-4466-8fb9-729f7e7c1329",
   "metadata": {},
   "outputs": [],
   "source": [
    "import os\n",
    "\n",
    "from google.cloud import aiplatform\n",
    "\n",
    "aiplatform.init(project=PROJECT_ID, location=REGION)"
   ]
  },
  {
   "cell_type": "markdown",
   "id": "7a14d021-86ca-4936-b9d7-6454303e745b",
   "metadata": {},
   "source": [
    "## Create a Managed Tabular Dataset from a CSV"
   ]
  },
  {
   "cell_type": "code",
   "execution_count": 8,
   "id": "3c424bdd-900b-45e3-ade1-83d43107d5b3",
   "metadata": {},
   "outputs": [
    {
     "name": "stdout",
     "output_type": "stream",
     "text": [
      "Creating TabularDataset\n",
      "Create TabularDataset backing LRO: projects/536618027487/locations/us-central1/datasets/5178436983545921536/operations/3987784294322929664\n",
      "TabularDataset created. Resource name: projects/536618027487/locations/us-central1/datasets/5178436983545921536\n",
      "To use this TabularDataset in another session:\n",
      "ds = aiplatform.TabularDataset('projects/536618027487/locations/us-central1/datasets/5178436983545921536')\n"
     ]
    },
    {
     "data": {
      "text/plain": [
       "'projects/536618027487/locations/us-central1/datasets/5178436983545921536'"
      ]
     },
     "execution_count": 8,
     "metadata": {},
     "output_type": "execute_result"
    }
   ],
   "source": [
    "ds = dataset = aiplatform.TabularDataset.create(\n",
    "    display_name=\"petfinder-tabular-dataset\",\n",
    "    gcs_source=gcs_source,\n",
    ")\n",
    "\n",
    "ds.resource_name"
   ]
  },
  {
   "cell_type": "code",
   "execution_count": 9,
   "id": "cfcaf489-8e40-44de-93e1-6f8a4daaf6b3",
   "metadata": {},
   "outputs": [],
   "source": [
    "## Launch a training job to create a Model"
   ]
  },
  {
   "cell_type": "code",
   "execution_count": 10,
   "id": "b5fa360c-1fde-42d5-8f0b-54ecf68e40f6",
   "metadata": {},
   "outputs": [
    {
     "name": "stdout",
     "output_type": "stream",
     "text": [
      "View Training:\n",
      "https://console.cloud.google.com/ai/platform/locations/us-central1/training/6943761794531852288?project=536618027487\n",
      "AutoMLTabularTrainingJob projects/536618027487/locations/us-central1/trainingPipelines/6943761794531852288 current state:\n",
      "PipelineState.PIPELINE_STATE_PENDING\n",
      "AutoMLTabularTrainingJob projects/536618027487/locations/us-central1/trainingPipelines/6943761794531852288 current state:\n",
      "PipelineState.PIPELINE_STATE_PENDING\n",
      "AutoMLTabularTrainingJob projects/536618027487/locations/us-central1/trainingPipelines/6943761794531852288 current state:\n",
      "PipelineState.PIPELINE_STATE_PENDING\n",
      "AutoMLTabularTrainingJob projects/536618027487/locations/us-central1/trainingPipelines/6943761794531852288 current state:\n",
      "PipelineState.PIPELINE_STATE_PENDING\n",
      "AutoMLTabularTrainingJob projects/536618027487/locations/us-central1/trainingPipelines/6943761794531852288 current state:\n",
      "PipelineState.PIPELINE_STATE_PENDING\n",
      "AutoMLTabularTrainingJob projects/536618027487/locations/us-central1/trainingPipelines/6943761794531852288 current state:\n",
      "PipelineState.PIPELINE_STATE_RUNNING\n",
      "AutoMLTabularTrainingJob projects/536618027487/locations/us-central1/trainingPipelines/6943761794531852288 current state:\n",
      "PipelineState.PIPELINE_STATE_RUNNING\n",
      "AutoMLTabularTrainingJob projects/536618027487/locations/us-central1/trainingPipelines/6943761794531852288 current state:\n",
      "PipelineState.PIPELINE_STATE_RUNNING\n",
      "AutoMLTabularTrainingJob projects/536618027487/locations/us-central1/trainingPipelines/6943761794531852288 current state:\n",
      "PipelineState.PIPELINE_STATE_RUNNING\n",
      "AutoMLTabularTrainingJob projects/536618027487/locations/us-central1/trainingPipelines/6943761794531852288 current state:\n",
      "PipelineState.PIPELINE_STATE_RUNNING\n",
      "AutoMLTabularTrainingJob projects/536618027487/locations/us-central1/trainingPipelines/6943761794531852288 current state:\n",
      "PipelineState.PIPELINE_STATE_RUNNING\n",
      "AutoMLTabularTrainingJob projects/536618027487/locations/us-central1/trainingPipelines/6943761794531852288 current state:\n",
      "PipelineState.PIPELINE_STATE_RUNNING\n",
      "AutoMLTabularTrainingJob projects/536618027487/locations/us-central1/trainingPipelines/6943761794531852288 current state:\n",
      "PipelineState.PIPELINE_STATE_RUNNING\n",
      "AutoMLTabularTrainingJob projects/536618027487/locations/us-central1/trainingPipelines/6943761794531852288 current state:\n",
      "PipelineState.PIPELINE_STATE_RUNNING\n",
      "AutoMLTabularTrainingJob projects/536618027487/locations/us-central1/trainingPipelines/6943761794531852288 current state:\n",
      "PipelineState.PIPELINE_STATE_RUNNING\n",
      "AutoMLTabularTrainingJob projects/536618027487/locations/us-central1/trainingPipelines/6943761794531852288 current state:\n",
      "PipelineState.PIPELINE_STATE_RUNNING\n",
      "AutoMLTabularTrainingJob projects/536618027487/locations/us-central1/trainingPipelines/6943761794531852288 current state:\n",
      "PipelineState.PIPELINE_STATE_RUNNING\n",
      "AutoMLTabularTrainingJob projects/536618027487/locations/us-central1/trainingPipelines/6943761794531852288 current state:\n",
      "PipelineState.PIPELINE_STATE_RUNNING\n",
      "AutoMLTabularTrainingJob projects/536618027487/locations/us-central1/trainingPipelines/6943761794531852288 current state:\n",
      "PipelineState.PIPELINE_STATE_RUNNING\n",
      "AutoMLTabularTrainingJob projects/536618027487/locations/us-central1/trainingPipelines/6943761794531852288 current state:\n",
      "PipelineState.PIPELINE_STATE_RUNNING\n",
      "AutoMLTabularTrainingJob projects/536618027487/locations/us-central1/trainingPipelines/6943761794531852288 current state:\n",
      "PipelineState.PIPELINE_STATE_RUNNING\n",
      "AutoMLTabularTrainingJob projects/536618027487/locations/us-central1/trainingPipelines/6943761794531852288 current state:\n",
      "PipelineState.PIPELINE_STATE_RUNNING\n",
      "AutoMLTabularTrainingJob projects/536618027487/locations/us-central1/trainingPipelines/6943761794531852288 current state:\n",
      "PipelineState.PIPELINE_STATE_RUNNING\n",
      "AutoMLTabularTrainingJob projects/536618027487/locations/us-central1/trainingPipelines/6943761794531852288 current state:\n",
      "PipelineState.PIPELINE_STATE_RUNNING\n",
      "AutoMLTabularTrainingJob projects/536618027487/locations/us-central1/trainingPipelines/6943761794531852288 current state:\n",
      "PipelineState.PIPELINE_STATE_RUNNING\n",
      "AutoMLTabularTrainingJob projects/536618027487/locations/us-central1/trainingPipelines/6943761794531852288 current state:\n",
      "PipelineState.PIPELINE_STATE_RUNNING\n",
      "AutoMLTabularTrainingJob projects/536618027487/locations/us-central1/trainingPipelines/6943761794531852288 current state:\n",
      "PipelineState.PIPELINE_STATE_RUNNING\n",
      "AutoMLTabularTrainingJob projects/536618027487/locations/us-central1/trainingPipelines/6943761794531852288 current state:\n",
      "PipelineState.PIPELINE_STATE_RUNNING\n",
      "AutoMLTabularTrainingJob run completed. Resource name: projects/536618027487/locations/us-central1/trainingPipelines/6943761794531852288\n",
      "Model available at projects/536618027487/locations/us-central1/models/2323019579862810624\n"
     ]
    }
   ],
   "source": [
    "job = aiplatform.AutoMLTabularTrainingJob(\n",
    "    display_name=\"train-petfinder-automl-1\",\n",
    "    optimization_prediction_type=\"classification\",\n",
    "    column_transformations=[\n",
    "        {\"categorical\": {\"column_name\": \"Type\"}},\n",
    "        {\"numeric\": {\"column_name\": \"Age\"}},\n",
    "        {\"categorical\": {\"column_name\": \"Breed1\"}},\n",
    "        {\"categorical\": {\"column_name\": \"Color1\"}},\n",
    "        {\"categorical\": {\"column_name\": \"Color2\"}},\n",
    "        {\"categorical\": {\"column_name\": \"MaturitySize\"}},\n",
    "        {\"categorical\": {\"column_name\": \"FurLength\"}},\n",
    "        {\"categorical\": {\"column_name\": \"Vaccinated\"}},\n",
    "        {\"categorical\": {\"column_name\": \"Sterilized\"}},\n",
    "        {\"categorical\": {\"column_name\": \"Health\"}},\n",
    "        {\"numeric\": {\"column_name\": \"Fee\"}},\n",
    "        {\"numeric\": {\"column_name\": \"PhotoAmt\"}},\n",
    "    ],\n",
    ")\n",
    "\n",
    "# This will take around an hour to run\n",
    "model = job.run(\n",
    "    dataset=ds,\n",
    "    target_column=\"Adopted\",\n",
    "    training_fraction_split=0.8,\n",
    "    validation_fraction_split=0.1,\n",
    "    test_fraction_split=0.1,\n",
    "    model_display_name=\"adopted-prediction-model\",\n",
    "    disable_early_stopping=False,\n",
    ")"
   ]
  },
  {
   "cell_type": "markdown",
   "id": "1d54d6c6-38f1-47c6-bad1-0682fb5a5844",
   "metadata": {},
   "source": [
    "## Deploy your model"
   ]
  },
  {
   "cell_type": "code",
   "execution_count": 11,
   "id": "63351cf5-a539-45e0-8476-64aacc5bd60a",
   "metadata": {},
   "outputs": [
    {
     "name": "stdout",
     "output_type": "stream",
     "text": [
      "Creating Endpoint\n",
      "Create Endpoint backing LRO: projects/536618027487/locations/us-central1/endpoints/4428448007612006400/operations/6486578400071778304\n",
      "Endpoint created. Resource name: projects/536618027487/locations/us-central1/endpoints/4428448007612006400\n",
      "To use this Endpoint in another session:\n",
      "endpoint = aiplatform.Endpoint('projects/536618027487/locations/us-central1/endpoints/4428448007612006400')\n",
      "Deploying model to Endpoint : projects/536618027487/locations/us-central1/endpoints/4428448007612006400\n",
      "Deploy Endpoint model backing LRO: projects/536618027487/locations/us-central1/endpoints/4428448007612006400/operations/4185238990485454848\n",
      "Endpoint model deployed. Resource name: projects/536618027487/locations/us-central1/endpoints/4428448007612006400\n"
     ]
    }
   ],
   "source": [
    "endpoint = model.deploy(\n",
    "    machine_type=\"n1-standard-4\",\n",
    ")"
   ]
  },
  {
   "cell_type": "markdown",
   "id": "4191f44b-467c-498a-970a-a34b19f73337",
   "metadata": {},
   "source": [
    "## Predict on your endpoint"
   ]
  },
  {
   "cell_type": "code",
   "execution_count": 12,
   "id": "23003526-caf0-41d2-a2fe-aab0bf506b44",
   "metadata": {},
   "outputs": [
    {
     "name": "stdout",
     "output_type": "stream",
     "text": [
      "Prediction(predictions=[{'classes': ['Yes', 'No'], 'scores': [0.6323009133338928, 0.3676990568637848]}], deployed_model_id='2933261727418023936', model_version_id='1', model_resource_name='projects/536618027487/locations/us-central1/models/2323019579862810624', explanations=None)\n"
     ]
    }
   ],
   "source": [
    "prediction = endpoint.predict(\n",
    "    [\n",
    "        {\n",
    "            \"Type\": \"Cat\",\n",
    "            \"Age\": \"3\",\n",
    "            \"Breed1\": \"Tabby\",\n",
    "            \"Gender\": \"Male\",\n",
    "            \"Color1\": \"Black\",\n",
    "            \"Color2\": \"White\",\n",
    "            \"MaturitySize\": \"Small\",\n",
    "            \"FurLength\": \"Short\",\n",
    "            \"Vaccinated\": \"No\",\n",
    "            \"Sterilized\": \"No\",\n",
    "            \"Health\": \"Healthy\",\n",
    "            \"Fee\": \"100\",\n",
    "            \"PhotoAmt\": \"2\",\n",
    "        }\n",
    "    ]\n",
    ")\n",
    "print(prediction)"
   ]
  },
  {
   "cell_type": "markdown",
   "id": "7de1fc12-b48a-4d1a-96fd-fc8fc6298c7b",
   "metadata": {},
   "source": [
    "## Undeploy the model"
   ]
  },
  {
   "cell_type": "code",
   "execution_count": 14,
   "id": "7960b0e2-a765-4f2b-8f6c-7cec6a623f36",
   "metadata": {},
   "outputs": [
    {
     "name": "stdout",
     "output_type": "stream",
     "text": [
      "Undeploying Endpoint model: projects/536618027487/locations/us-central1/endpoints/4428448007612006400\n",
      "Undeploy Endpoint model backing LRO: projects/536618027487/locations/us-central1/endpoints/4428448007612006400/operations/6765238627015327744\n",
      "Endpoint model undeployed. Resource name: projects/536618027487/locations/us-central1/endpoints/4428448007612006400\n"
     ]
    }
   ],
   "source": [
    "endpoint.undeploy(deployed_model_id=prediction.deployed_model_id)"
   ]
  },
  {
   "cell_type": "markdown",
   "id": "6eabb9dd-8e98-496c-bd2d-555635027d00",
   "metadata": {},
   "source": [
    "## Cleaning Up"
   ]
  },
  {
   "cell_type": "code",
   "execution_count": 16,
   "id": "14f86d13-9aa7-4001-914a-2c36957835f2",
   "metadata": {},
   "outputs": [
    {
     "name": "stdout",
     "output_type": "stream",
     "text": [
      "Deleting AutoMLTabularTrainingJob : projects/536618027487/locations/us-central1/trainingPipelines/6943761794531852288\n",
      "Delete AutoMLTabularTrainingJob  backing LRO: projects/536618027487/locations/us-central1/operations/620076935468285952\n",
      "AutoMLTabularTrainingJob deleted. . Resource name: projects/536618027487/locations/us-central1/trainingPipelines/6943761794531852288\n",
      "Deleting Model : projects/536618027487/locations/us-central1/models/2323019579862810624\n",
      "Delete Model  backing LRO: projects/536618027487/locations/us-central1/operations/4846705185755496448\n",
      "Model deleted. . Resource name: projects/536618027487/locations/us-central1/models/2323019579862810624\n",
      "Deleting Endpoint : projects/536618027487/locations/us-central1/endpoints/4428448007612006400\n",
      "Delete Endpoint  backing LRO: projects/536618027487/locations/us-central1/operations/686505029972000768\n",
      "Endpoint deleted. . Resource name: projects/536618027487/locations/us-central1/endpoints/4428448007612006400\n",
      "/usr/bin/sh: line 1: gsutil: command not found\n"
     ]
    }
   ],
   "source": [
    "# Warning: Setting this to true will delete everything in your bucket\n",
    "delete_bucket = True\n",
    "\n",
    "# Delete the training job\n",
    "job.delete()\n",
    "\n",
    "# Delete the model\n",
    "model.delete()\n",
    "\n",
    "# Delete the endpoint\n",
    "endpoint.delete()\n",
    "\n",
    "\n",
    "\n",
    "if delete_bucket or os.getenv(\"IS_TESTING\"):\n",
    "    ! gsutil -m rm -r $BUCKET_URI"
   ]
  },
  {
   "cell_type": "code",
   "execution_count": null,
   "id": "a9105f60-891d-4545-b450-cd55c8a3902a",
   "metadata": {},
   "outputs": [],
   "source": []
  }
 ],
 "metadata": {
  "kernelspec": {
   "display_name": "Python 3.9.16",
   "language": "python",
   "name": "python3"
  },
  "language_info": {
   "codemirror_mode": {
    "name": "ipython",
    "version": 3
   },
   "file_extension": ".py",
   "mimetype": "text/x-python",
   "name": "python",
   "nbconvert_exporter": "python",
   "pygments_lexer": "ipython3",
   "version": "3.9.16"
  }
 },
 "nbformat": 4,
 "nbformat_minor": 5
}
